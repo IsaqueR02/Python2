{
  "nbformat": 4,
  "nbformat_minor": 0,
  "metadata": {
    "colab": {
      "provenance": [],
      "authorship_tag": "ABX9TyMEaMYPX2WfNofcrhOjznsg",
      "include_colab_link": true
    },
    "kernelspec": {
      "name": "python3",
      "display_name": "Python 3"
    },
    "language_info": {
      "name": "python"
    }
  },
  "cells": [
    {
      "cell_type": "markdown",
      "metadata": {
        "id": "view-in-github",
        "colab_type": "text"
      },
      "source": [
        "<a href=\"https://colab.research.google.com/github/IsaqueR02/Python2/blob/main/Vetores.ipynb\" target=\"_parent\"><img src=\"https://colab.research.google.com/assets/colab-badge.svg\" alt=\"Open In Colab\"/></a>"
      ]
    },
    {
      "cell_type": "code",
      "execution_count": 15,
      "metadata": {
        "colab": {
          "base_uri": "https://localhost:8080/"
        },
        "id": "o22feaSIbjN_",
        "outputId": "621a0b84-850f-4b38-b70a-171ffc9b7a5b"
      },
      "outputs": [
        {
          "output_type": "stream",
          "name": "stdout",
          "text": [
            "Digite numero: 500\n",
            "5 0 0 0\n"
          ]
        }
      ],
      "source": [
        "num = int(input('Digite numero: '))\n",
        "cem = num//100\n",
        "num = (num%100)\n",
        "cin = num//50\n",
        "num = (num%50)\n",
        "dez = num//10\n",
        "num = (num%10)\n",
        "um = num//1\n",
        "num = (num%1)\n",
        "print(cem, cin, dez, um)\n",
        ""
      ]
    },
    {
      "cell_type": "code",
      "source": [
        "num = int(input('Digite numero: '))\n",
        "number=[0]*4\n",
        "number[0] = num//100\n",
        "num=num%100\n",
        "number[1] = num//50\n",
        "num=num%50\n",
        "number[2] = num//10\n",
        "num=num%10\n",
        "number[0] = num//1\n",
        "num=num%1\n",
        "print(number)"
      ],
      "metadata": {
        "colab": {
          "base_uri": "https://localhost:8080/"
        },
        "id": "cJ2xCCTclc8m",
        "outputId": "b56ddfcb-d1b3-4cd2-d4d1-75cf7e0fdb73"
      },
      "execution_count": 26,
      "outputs": [
        {
          "output_type": "stream",
          "name": "stdout",
          "text": [
            "Digite numero: 540\n",
            "[0, 0, 4, 0]\n"
          ]
        }
      ]
    },
    {
      "cell_type": "code",
      "source": [
        "def reverso(v1):\n",
        "  tamanho=len(v1)\n",
        "  v2=[0]*tamanho\n",
        "  for i in range(tamanho):\n",
        "    v2[i] =v1[(tamanho-1)-i]\n",
        "  return v2\n",
        "v1=[]\n",
        "for i in range(3):\n",
        "  v1.append(int(input('Digite o numero: ')))\n",
        "print(v1)\n",
        "print(reverso(v1))"
      ],
      "metadata": {
        "colab": {
          "base_uri": "https://localhost:8080/"
        },
        "id": "eEtsSmuUuAmO",
        "outputId": "de9e6db2-5328-474a-b761-2271c3e94625"
      },
      "execution_count": 41,
      "outputs": [
        {
          "output_type": "stream",
          "name": "stdout",
          "text": [
            "Digite o numero: 15\n",
            "Digite o numero: 62\n",
            "Digite o numero: 3\n",
            "[15, 62, 3]\n",
            "[3, 62, 15]\n"
          ]
        }
      ]
    }
  ]
}